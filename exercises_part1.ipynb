{
  "nbformat": 4,
  "nbformat_minor": 0,
  "metadata": {
    "colab": {
      "provenance": [],
      "authorship_tag": "ABX9TyOlfPLyPpAgpo7UFN+pRLVi",
      "include_colab_link": true
    },
    "kernelspec": {
      "name": "python3",
      "display_name": "Python 3"
    },
    "language_info": {
      "name": "python"
    }
  },
  "cells": [
    {
      "cell_type": "markdown",
      "metadata": {
        "id": "view-in-github",
        "colab_type": "text"
      },
      "source": [
        "<a href=\"https://colab.research.google.com/github/Luksonini/unitest-exercises/blob/main/exercises_part1.ipynb\" target=\"_parent\"><img src=\"https://colab.research.google.com/assets/colab-badge.svg\" alt=\"Open In Colab\"/></a>"
      ]
    },
    {
      "cell_type": "code",
      "execution_count": 6,
      "metadata": {
        "id": "nLfKfeLUiTBd",
        "colab": {
          "base_uri": "https://localhost:8080/",
          "height": 36
        },
        "outputId": "b12e1f76-0b68-4f8a-ec70-b518f0a3f738"
      },
      "outputs": [
        {
          "output_type": "execute_result",
          "data": {
            "text/plain": [
              "'3.10.12'"
            ],
            "application/vnd.google.colaboratory.intrinsic+json": {
              "type": "string"
            }
          },
          "metadata": {},
          "execution_count": 6
        }
      ],
      "source": [
        "import sys\n",
        "\n",
        "sys.version.split()[0]"
      ]
    },
    {
      "cell_type": "code",
      "source": [
        "countries = ['POL', 'ENG', 'GER', 'USA', 'ITA']\n",
        "is_italy = 'ITA' in countries\n",
        "\n",
        "assert is_italy"
      ],
      "metadata": {
        "id": "8cdXM8WsmA5a"
      },
      "execution_count": 7,
      "outputs": []
    },
    {
      "cell_type": "code",
      "source": [
        "countries = ['POL', 'ENG', 'GER', 'USA', 'ITA']\n",
        "is_canada = 'CAN' in countries\n",
        "\n",
        "# tutaj wpisz rozwiązanie\n",
        "assert is_canada"
      ],
      "metadata": {
        "colab": {
          "base_uri": "https://localhost:8080/",
          "height": 208
        },
        "id": "OrlwGhjSnFY0",
        "outputId": "ee69b474-f9ec-4d2c-b664-3c8d9e0a1d52"
      },
      "execution_count": 8,
      "outputs": [
        {
          "output_type": "error",
          "ename": "AssertionError",
          "evalue": "ignored",
          "traceback": [
            "\u001b[0;31m---------------------------------------------------------------------------\u001b[0m",
            "\u001b[0;31mAssertionError\u001b[0m                            Traceback (most recent call last)",
            "\u001b[0;32m<ipython-input-8-d8642e9f4c2a>\u001b[0m in \u001b[0;36m<cell line: 5>\u001b[0;34m()\u001b[0m\n\u001b[1;32m      3\u001b[0m \u001b[0;34m\u001b[0m\u001b[0m\n\u001b[1;32m      4\u001b[0m \u001b[0;31m# tutaj wpisz rozwiązanie\u001b[0m\u001b[0;34m\u001b[0m\u001b[0;34m\u001b[0m\u001b[0m\n\u001b[0;32m----> 5\u001b[0;31m \u001b[0;32massert\u001b[0m \u001b[0mis_canada\u001b[0m\u001b[0;34m\u001b[0m\u001b[0;34m\u001b[0m\u001b[0m\n\u001b[0m",
            "\u001b[0;31mAssertionError\u001b[0m: "
          ]
        }
      ]
    },
    {
      "cell_type": "code",
      "source": [
        "def max_min_diff(numbers):\n",
        "    assert len(numbers) > 0\n",
        "    return max(numbers) - min(numbers)\n",
        "max_min_diff([])"
      ],
      "metadata": {
        "colab": {
          "base_uri": "https://localhost:8080/",
          "height": 317
        },
        "id": "s2CkoVs-ndlQ",
        "outputId": "3e21c9b8-7e06-47b5-a4bd-342e269f980e"
      },
      "execution_count": 10,
      "outputs": [
        {
          "output_type": "error",
          "ename": "AssertionError",
          "evalue": "ignored",
          "traceback": [
            "\u001b[0;31m---------------------------------------------------------------------------\u001b[0m",
            "\u001b[0;31mAssertionError\u001b[0m                            Traceback (most recent call last)",
            "\u001b[0;32m<ipython-input-10-8a6f374ed3f5>\u001b[0m in \u001b[0;36m<cell line: 4>\u001b[0;34m()\u001b[0m\n\u001b[1;32m      2\u001b[0m     \u001b[0;32massert\u001b[0m \u001b[0mlen\u001b[0m\u001b[0;34m(\u001b[0m\u001b[0mnumbers\u001b[0m\u001b[0;34m)\u001b[0m \u001b[0;34m>\u001b[0m \u001b[0;36m0\u001b[0m\u001b[0;34m\u001b[0m\u001b[0;34m\u001b[0m\u001b[0m\n\u001b[1;32m      3\u001b[0m     \u001b[0;32mreturn\u001b[0m \u001b[0mmax\u001b[0m\u001b[0;34m(\u001b[0m\u001b[0mnumbers\u001b[0m\u001b[0;34m)\u001b[0m \u001b[0;34m-\u001b[0m \u001b[0mmin\u001b[0m\u001b[0;34m(\u001b[0m\u001b[0mnumbers\u001b[0m\u001b[0;34m)\u001b[0m\u001b[0;34m\u001b[0m\u001b[0;34m\u001b[0m\u001b[0m\n\u001b[0;32m----> 4\u001b[0;31m \u001b[0mmax_min_diff\u001b[0m\u001b[0;34m(\u001b[0m\u001b[0;34m[\u001b[0m\u001b[0;34m]\u001b[0m\u001b[0;34m)\u001b[0m\u001b[0;34m\u001b[0m\u001b[0;34m\u001b[0m\u001b[0m\n\u001b[0m",
            "\u001b[0;32m<ipython-input-10-8a6f374ed3f5>\u001b[0m in \u001b[0;36mmax_min_diff\u001b[0;34m(numbers)\u001b[0m\n\u001b[1;32m      1\u001b[0m \u001b[0;32mdef\u001b[0m \u001b[0mmax_min_diff\u001b[0m\u001b[0;34m(\u001b[0m\u001b[0mnumbers\u001b[0m\u001b[0;34m)\u001b[0m\u001b[0;34m:\u001b[0m\u001b[0;34m\u001b[0m\u001b[0;34m\u001b[0m\u001b[0m\n\u001b[0;32m----> 2\u001b[0;31m     \u001b[0;32massert\u001b[0m \u001b[0mlen\u001b[0m\u001b[0;34m(\u001b[0m\u001b[0mnumbers\u001b[0m\u001b[0;34m)\u001b[0m \u001b[0;34m>\u001b[0m \u001b[0;36m0\u001b[0m\u001b[0;34m\u001b[0m\u001b[0;34m\u001b[0m\u001b[0m\n\u001b[0m\u001b[1;32m      3\u001b[0m     \u001b[0;32mreturn\u001b[0m \u001b[0mmax\u001b[0m\u001b[0;34m(\u001b[0m\u001b[0mnumbers\u001b[0m\u001b[0;34m)\u001b[0m \u001b[0;34m-\u001b[0m \u001b[0mmin\u001b[0m\u001b[0;34m(\u001b[0m\u001b[0mnumbers\u001b[0m\u001b[0;34m)\u001b[0m\u001b[0;34m\u001b[0m\u001b[0;34m\u001b[0m\u001b[0m\n\u001b[1;32m      4\u001b[0m \u001b[0mmax_min_diff\u001b[0m\u001b[0;34m(\u001b[0m\u001b[0;34m[\u001b[0m\u001b[0;34m]\u001b[0m\u001b[0;34m)\u001b[0m\u001b[0;34m\u001b[0m\u001b[0;34m\u001b[0m\u001b[0m\n",
            "\u001b[0;31mAssertionError\u001b[0m: "
          ]
        }
      ]
    },
    {
      "cell_type": "code",
      "source": [
        "def max_min_diff(numbers):\n",
        "    assert len(numbers) > 0, 'The numbers object cannot be empty.'\n",
        "    return max(numbers) - min(numbers)\n",
        "\n",
        "# tutaj wpisz rozwiązanie\n",
        "if __name__ == '__main__':\n",
        "    max_min_diff([])"
      ],
      "metadata": {
        "colab": {
          "base_uri": "https://localhost:8080/",
          "height": 336
        },
        "id": "-FmNNtkXn10U",
        "outputId": "5fdfa859-681f-4b75-af4a-7320eb7b564b"
      },
      "execution_count": 11,
      "outputs": [
        {
          "output_type": "error",
          "ename": "AssertionError",
          "evalue": "ignored",
          "traceback": [
            "\u001b[0;31m---------------------------------------------------------------------------\u001b[0m",
            "\u001b[0;31mAssertionError\u001b[0m                            Traceback (most recent call last)",
            "\u001b[0;32m<ipython-input-11-06d7d49774f8>\u001b[0m in \u001b[0;36m<cell line: 6>\u001b[0;34m()\u001b[0m\n\u001b[1;32m      5\u001b[0m \u001b[0;31m# tutaj wpisz rozwiązanie\u001b[0m\u001b[0;34m\u001b[0m\u001b[0;34m\u001b[0m\u001b[0m\n\u001b[1;32m      6\u001b[0m \u001b[0;32mif\u001b[0m \u001b[0m__name__\u001b[0m \u001b[0;34m==\u001b[0m \u001b[0;34m'__main__'\u001b[0m\u001b[0;34m:\u001b[0m\u001b[0;34m\u001b[0m\u001b[0;34m\u001b[0m\u001b[0m\n\u001b[0;32m----> 7\u001b[0;31m     \u001b[0mmax_min_diff\u001b[0m\u001b[0;34m(\u001b[0m\u001b[0;34m[\u001b[0m\u001b[0;34m]\u001b[0m\u001b[0;34m)\u001b[0m\u001b[0;34m\u001b[0m\u001b[0;34m\u001b[0m\u001b[0m\n\u001b[0m",
            "\u001b[0;32m<ipython-input-11-06d7d49774f8>\u001b[0m in \u001b[0;36mmax_min_diff\u001b[0;34m(numbers)\u001b[0m\n\u001b[1;32m      1\u001b[0m \u001b[0;32mdef\u001b[0m \u001b[0mmax_min_diff\u001b[0m\u001b[0;34m(\u001b[0m\u001b[0mnumbers\u001b[0m\u001b[0;34m)\u001b[0m\u001b[0;34m:\u001b[0m\u001b[0;34m\u001b[0m\u001b[0;34m\u001b[0m\u001b[0m\n\u001b[0;32m----> 2\u001b[0;31m     \u001b[0;32massert\u001b[0m \u001b[0mlen\u001b[0m\u001b[0;34m(\u001b[0m\u001b[0mnumbers\u001b[0m\u001b[0;34m)\u001b[0m \u001b[0;34m>\u001b[0m \u001b[0;36m0\u001b[0m\u001b[0;34m,\u001b[0m \u001b[0;34m'The numbers object cannot be empty.'\u001b[0m\u001b[0;34m\u001b[0m\u001b[0;34m\u001b[0m\u001b[0m\n\u001b[0m\u001b[1;32m      3\u001b[0m     \u001b[0;32mreturn\u001b[0m \u001b[0mmax\u001b[0m\u001b[0;34m(\u001b[0m\u001b[0mnumbers\u001b[0m\u001b[0;34m)\u001b[0m \u001b[0;34m-\u001b[0m \u001b[0mmin\u001b[0m\u001b[0;34m(\u001b[0m\u001b[0mnumbers\u001b[0m\u001b[0;34m)\u001b[0m\u001b[0;34m\u001b[0m\u001b[0;34m\u001b[0m\u001b[0m\n\u001b[1;32m      4\u001b[0m \u001b[0;34m\u001b[0m\u001b[0m\n\u001b[1;32m      5\u001b[0m \u001b[0;31m# tutaj wpisz rozwiązanie\u001b[0m\u001b[0;34m\u001b[0m\u001b[0;34m\u001b[0m\u001b[0m\n",
            "\u001b[0;31mAssertionError\u001b[0m: The numbers object cannot be empty."
          ]
        }
      ]
    },
    {
      "cell_type": "code",
      "source": [
        "def area(width, height):\n",
        "    \"\"\"The function returns the area of the rectangle.\"\"\"\n",
        "\n",
        "    if not (isinstance(width, int) and isinstance(height, int)):\n",
        "        raise TypeError('The width and height must be of type int.')\n",
        "\n",
        "    if not (width > 0 and height > 0):\n",
        "        raise ValueError('The width and height must be positive.')\n",
        "\n",
        "    return width * height\n",
        "\n",
        "# tutaj wpisz rozwiązanie\n",
        "assert area('5', '4') == 20"
      ],
      "metadata": {
        "colab": {
          "base_uri": "https://localhost:8080/",
          "height": 336
        },
        "id": "z8mhSi8GoUa_",
        "outputId": "bda6c6c9-d96f-4da3-8a46-61f207c563b3"
      },
      "execution_count": 12,
      "outputs": [
        {
          "output_type": "error",
          "ename": "TypeError",
          "evalue": "ignored",
          "traceback": [
            "\u001b[0;31m---------------------------------------------------------------------------\u001b[0m",
            "\u001b[0;31mTypeError\u001b[0m                                 Traceback (most recent call last)",
            "\u001b[0;32m<ipython-input-12-60901f727859>\u001b[0m in \u001b[0;36m<cell line: 13>\u001b[0;34m()\u001b[0m\n\u001b[1;32m     11\u001b[0m \u001b[0;34m\u001b[0m\u001b[0m\n\u001b[1;32m     12\u001b[0m \u001b[0;31m# tutaj wpisz rozwiązanie\u001b[0m\u001b[0;34m\u001b[0m\u001b[0;34m\u001b[0m\u001b[0m\n\u001b[0;32m---> 13\u001b[0;31m \u001b[0;32massert\u001b[0m \u001b[0marea\u001b[0m\u001b[0;34m(\u001b[0m\u001b[0;34m'5'\u001b[0m\u001b[0;34m,\u001b[0m \u001b[0;34m'4'\u001b[0m\u001b[0;34m)\u001b[0m \u001b[0;34m==\u001b[0m \u001b[0;36m20\u001b[0m\u001b[0;34m\u001b[0m\u001b[0;34m\u001b[0m\u001b[0m\n\u001b[0m",
            "\u001b[0;32m<ipython-input-12-60901f727859>\u001b[0m in \u001b[0;36marea\u001b[0;34m(width, height)\u001b[0m\n\u001b[1;32m      3\u001b[0m \u001b[0;34m\u001b[0m\u001b[0m\n\u001b[1;32m      4\u001b[0m     \u001b[0;32mif\u001b[0m \u001b[0;32mnot\u001b[0m \u001b[0;34m(\u001b[0m\u001b[0misinstance\u001b[0m\u001b[0;34m(\u001b[0m\u001b[0mwidth\u001b[0m\u001b[0;34m,\u001b[0m \u001b[0mint\u001b[0m\u001b[0;34m)\u001b[0m \u001b[0;32mand\u001b[0m \u001b[0misinstance\u001b[0m\u001b[0;34m(\u001b[0m\u001b[0mheight\u001b[0m\u001b[0;34m,\u001b[0m \u001b[0mint\u001b[0m\u001b[0;34m)\u001b[0m\u001b[0;34m)\u001b[0m\u001b[0;34m:\u001b[0m\u001b[0;34m\u001b[0m\u001b[0;34m\u001b[0m\u001b[0m\n\u001b[0;32m----> 5\u001b[0;31m         \u001b[0;32mraise\u001b[0m \u001b[0mTypeError\u001b[0m\u001b[0;34m(\u001b[0m\u001b[0;34m'The width and height must be of type int.'\u001b[0m\u001b[0;34m)\u001b[0m\u001b[0;34m\u001b[0m\u001b[0;34m\u001b[0m\u001b[0m\n\u001b[0m\u001b[1;32m      6\u001b[0m \u001b[0;34m\u001b[0m\u001b[0m\n\u001b[1;32m      7\u001b[0m     \u001b[0;32mif\u001b[0m \u001b[0;32mnot\u001b[0m \u001b[0;34m(\u001b[0m\u001b[0mwidth\u001b[0m \u001b[0;34m>\u001b[0m \u001b[0;36m0\u001b[0m \u001b[0;32mand\u001b[0m \u001b[0mheight\u001b[0m \u001b[0;34m>\u001b[0m \u001b[0;36m0\u001b[0m\u001b[0;34m)\u001b[0m\u001b[0;34m:\u001b[0m\u001b[0;34m\u001b[0m\u001b[0;34m\u001b[0m\u001b[0m\n",
            "\u001b[0;31mTypeError\u001b[0m: The width and height must be of type int."
          ]
        }
      ]
    },
    {
      "cell_type": "code",
      "source": [
        "def area(width, height):\n",
        "    \"\"\"The function returns the area of the rectangle.\"\"\"\n",
        "\n",
        "    if not (isinstance(width, int) and isinstance(height, int)):\n",
        "        raise TypeError('The width and height must be of type int.')\n",
        "\n",
        "    if not (width > 0 and height > 0):\n",
        "        raise ValueError('The width and height must be positive.')\n",
        "\n",
        "    return width * height\n",
        "\n",
        "# tutaj wpisz rozwiązanie\n",
        "assert area(-4, 5) == 20"
      ],
      "metadata": {
        "colab": {
          "base_uri": "https://localhost:8080/",
          "height": 336
        },
        "id": "YxL3GqGmpHJu",
        "outputId": "87b5300f-e89e-4b37-d0b5-19345a374b3b"
      },
      "execution_count": 13,
      "outputs": [
        {
          "output_type": "error",
          "ename": "ValueError",
          "evalue": "ignored",
          "traceback": [
            "\u001b[0;31m---------------------------------------------------------------------------\u001b[0m",
            "\u001b[0;31mValueError\u001b[0m                                Traceback (most recent call last)",
            "\u001b[0;32m<ipython-input-13-53e4ea9d2346>\u001b[0m in \u001b[0;36m<cell line: 13>\u001b[0;34m()\u001b[0m\n\u001b[1;32m     11\u001b[0m \u001b[0;34m\u001b[0m\u001b[0m\n\u001b[1;32m     12\u001b[0m \u001b[0;31m# tutaj wpisz rozwiązanie\u001b[0m\u001b[0;34m\u001b[0m\u001b[0;34m\u001b[0m\u001b[0m\n\u001b[0;32m---> 13\u001b[0;31m \u001b[0;32massert\u001b[0m \u001b[0marea\u001b[0m\u001b[0;34m(\u001b[0m\u001b[0;34m-\u001b[0m\u001b[0;36m4\u001b[0m\u001b[0;34m,\u001b[0m \u001b[0;36m5\u001b[0m\u001b[0;34m)\u001b[0m \u001b[0;34m==\u001b[0m \u001b[0;36m20\u001b[0m\u001b[0;34m\u001b[0m\u001b[0;34m\u001b[0m\u001b[0m\n\u001b[0m",
            "\u001b[0;32m<ipython-input-13-53e4ea9d2346>\u001b[0m in \u001b[0;36marea\u001b[0;34m(width, height)\u001b[0m\n\u001b[1;32m      6\u001b[0m \u001b[0;34m\u001b[0m\u001b[0m\n\u001b[1;32m      7\u001b[0m     \u001b[0;32mif\u001b[0m \u001b[0;32mnot\u001b[0m \u001b[0;34m(\u001b[0m\u001b[0mwidth\u001b[0m \u001b[0;34m>\u001b[0m \u001b[0;36m0\u001b[0m \u001b[0;32mand\u001b[0m \u001b[0mheight\u001b[0m \u001b[0;34m>\u001b[0m \u001b[0;36m0\u001b[0m\u001b[0;34m)\u001b[0m\u001b[0;34m:\u001b[0m\u001b[0;34m\u001b[0m\u001b[0;34m\u001b[0m\u001b[0m\n\u001b[0;32m----> 8\u001b[0;31m         \u001b[0;32mraise\u001b[0m \u001b[0mValueError\u001b[0m\u001b[0;34m(\u001b[0m\u001b[0;34m'The width and height must be positive.'\u001b[0m\u001b[0;34m)\u001b[0m\u001b[0;34m\u001b[0m\u001b[0;34m\u001b[0m\u001b[0m\n\u001b[0m\u001b[1;32m      9\u001b[0m \u001b[0;34m\u001b[0m\u001b[0m\n\u001b[1;32m     10\u001b[0m     \u001b[0;32mreturn\u001b[0m \u001b[0mwidth\u001b[0m \u001b[0;34m*\u001b[0m \u001b[0mheight\u001b[0m\u001b[0;34m\u001b[0m\u001b[0;34m\u001b[0m\u001b[0m\n",
            "\u001b[0;31mValueError\u001b[0m: The width and height must be positive."
          ]
        }
      ]
    },
    {
      "cell_type": "code",
      "source": [
        "def calculate_tax(amount, tax_rate, age):\n",
        "    \"\"\"The function returns the amount of income tax.\"\"\"\n",
        "\n",
        "    if age <= 18:\n",
        "        return int(min(amount * tax_rate, 5000))\n",
        "    elif age <= 65:\n",
        "        return int(amount * tax_rate)\n",
        "    else:\n",
        "        return int(min(amount * tax_rate, 8000))\n",
        "\n",
        "# tutaj wpisz rozwiązanie\n",
        "def test_calculate_tax():\n",
        "    assert calculate_tax(60000, 0.15, 10) == 5000\n",
        "\n",
        "    assert calculate_tax(60000, 0.15, 18) == 5000\n",
        "\n",
        "    assert calculate_tax(60000, 0.15, 19) == 9000\n",
        "\n",
        "    assert calculate_tax(60000, 0.15, 65) == 9000\n",
        "\n",
        "    assert calculate_tax(60000, 0.15, 66) == 8000\n",
        "\n",
        "test_calculate_tax()"
      ],
      "metadata": {
        "id": "oNktg0r_pb3L"
      },
      "execution_count": 14,
      "outputs": []
    },
    {
      "cell_type": "code",
      "source": [
        "def calculate_tax(amount, tax_rate, age):\n",
        "    \"\"\"The function returns the amount of income tax.\"\"\"\n",
        "\n",
        "    if age <= 18:\n",
        "        return int(min(amount * tax_rate, 5000))\n",
        "    elif age <= 65:\n",
        "        return int(amount * tax_rate)\n",
        "    else:\n",
        "        return int(min(amount * tax_rate, 8000))\n",
        "\n",
        "def test_calculate_tax():\n",
        "    assert calculate_tax(60000, 0.15, 10) == 5000\n",
        "    assert calculate_tax(60000, 0.15, 18) == 5000\n",
        "    assert calculate_tax(60000, 0.15, 19) == 9000\n",
        "    assert calculate_tax(60000, 0.15, 65) == 9000\n",
        "    assert calculate_tax(60000, 0.15, 66) == 8000\n",
        "\n",
        "test_calculate_tax()"
      ],
      "metadata": {
        "id": "v8gwgJcwp70E"
      },
      "execution_count": 15,
      "outputs": []
    },
    {
      "cell_type": "code",
      "source": [
        "import unittest\n",
        "\n",
        "\n",
        "# tutaj wpisz rozwiązanie\n",
        "class TestSplitMethod(unittest.TestCase):\n",
        "\n",
        "    def test_split_by_default(self):\n",
        "        self.assertEqual('Python Testing'.split(), ['Python', 'Testing'])\n",
        "\n",
        "    def test_split_by_comma(self):\n",
        "        self.assertEqual('open,high,low,close'.split(','), ['open', 'high', 'low', 'close'])\n",
        "\n",
        "    def test_split_by_hash(self):\n",
        "        self.assertEqual('summer#time#vibes'.split('#'), ['summer', 'time', 'vibes'])\n"
      ],
      "metadata": {
        "id": "0T42Q68hq2jq"
      },
      "execution_count": 17,
      "outputs": []
    },
    {
      "cell_type": "code",
      "source": [
        "import unittest\n",
        "\n",
        "\n",
        "class TestJoinMethod(unittest.TestCase):\n",
        "\n",
        "    def test_join_with_space(self):\n",
        "        result = ' '.join(['Python', '3.8'])\n",
        "        exp = 'Python 3.8'\n",
        "        self.assertEqual(result, exp)\n",
        "\n",
        "    def test_join_with_comma(self):\n",
        "        res = ','.join(['open', 'high', 'low', 'close'])\n",
        "        exp = 'open,high,low,close'\n",
        "        self.assertEqual(res, exp)\n",
        "\n",
        "    def test_join_with_new_line_char(self):\n",
        "        res = '\\n'.join(['open', 'high', 'low', 'close'])\n",
        "        exp = 'open\\nhigh\\nlow\\nclose'\n",
        "        self.assertEqual(res, exp)"
      ],
      "metadata": {
        "id": "VCZZqokAHF9P"
      },
      "execution_count": 18,
      "outputs": []
    },
    {
      "cell_type": "code",
      "source": [
        "import unittest\n",
        "from collections import Counter\n",
        "\n",
        "class TestIsInstance(unittest.TestCase):\n",
        "\n",
        "    def test_case_1(self):\n",
        "        self.assertTrue(isinstance((), tuple))\n",
        "\n",
        "    def test_case_2(self):\n",
        "        self.assertTrue(isinstance([], list))\n",
        "\n",
        "    def test_case_3(self):\n",
        "        self.assertTrue(isinstance({}, dict))\n",
        "\n",
        "    def test_case_4(self):\n",
        "        cnt = Counter()\n",
        "        self.assertTrue(isinstance(cnt, Counter))\n",
        "\n",
        "    def test_case_5(self):\n",
        "        var1 = 4\n",
        "        self.assertTrue(isinstance(var1, int))\n",
        "\n",
        "    def test_case_6(self):\n",
        "        var1 = 4,\n",
        "        self.assertTrue(isinstance(var1, tuple))\n",
        "\n",
        "suite = unittest.TestLoader().loadTestsFromTestCase(TestIsInstance)\n",
        "unittest.TextTestRunner(verbosity=2).run(suite)"
      ],
      "metadata": {
        "colab": {
          "base_uri": "https://localhost:8080/"
        },
        "id": "V8q3q2vuHGw4",
        "outputId": "429e9b8e-7f70-46e5-a304-bd0594c48017"
      },
      "execution_count": 23,
      "outputs": [
        {
          "output_type": "stream",
          "name": "stderr",
          "text": [
            "test_case_1 (__main__.TestIsInstance) ... ok\n",
            "test_case_2 (__main__.TestIsInstance) ... ok\n",
            "test_case_3 (__main__.TestIsInstance) ... ok\n",
            "test_case_4 (__main__.TestIsInstance) ... ok\n",
            "test_case_5 (__main__.TestIsInstance) ... ok\n",
            "test_case_6 (__main__.TestIsInstance) ... ok\n",
            "\n",
            "----------------------------------------------------------------------\n",
            "Ran 6 tests in 0.025s\n",
            "\n",
            "OK\n"
          ]
        },
        {
          "output_type": "execute_result",
          "data": {
            "text/plain": [
              "<unittest.runner.TextTestResult run=6 errors=0 failures=0>"
            ]
          },
          "metadata": {},
          "execution_count": 23
        }
      ]
    },
    {
      "cell_type": "code",
      "source": [],
      "metadata": {
        "id": "_YDeWdTcLx5H"
      },
      "execution_count": null,
      "outputs": []
    },
    {
      "cell_type": "markdown",
      "source": [
        "Ćwiczenie 5\n",
        "Wykorzystując framework unittest utwórz klasę TestUpper dziedziczącą po klasie unittest.TestCase oraz implementującą dwa poniższe testy:\n",
        "\n",
        "test_upper()\n",
        "\n",
        "test, który sprawdzi, czy kod 'summer'.upper() zwróci tekst 'SUMMER'\n",
        "\n",
        "test_is_upper()\n",
        "\n",
        "test, który sprawdzi, czy kod 'SUMMER'.isupper() zwraca wartość logiczną True\n",
        "\n",
        "test, który sprawdzi, czy kod 'summer'.isupper() zwraca wartość logiczną False\n",
        "\n",
        "\n",
        "\n",
        "Wystarczy tylko zdefiniować klasę i odpowiednie testy. W trakcie weryfikacji rozwiązania testy są uruchamiane i w razie ewentualnych błędów raport o testach zostanie wydrukowany do konsoli."
      ],
      "metadata": {
        "id": "kPEIz51yMCw1"
      }
    },
    {
      "cell_type": "code",
      "source": [
        "import unittest\n",
        "\n",
        "\n",
        "class TestUpper(unittest.TestCase):\n",
        "\n",
        "    def test_upper(self):\n",
        "        self.assertEqual('summer'.upper(), 'SUMMER')\n",
        "\n",
        "    def test_is_upper(self):\n",
        "        self.assertTrue('SUMMER'.isupper())\n",
        "        self.assertEqual('SUMMER'.isupper(), False)\n",
        "\n",
        "\n",
        "suite = unittest.TestLoader().loadTestsFromTestCase(TestUpper)\n",
        "unittest.TextTestRunner(verbosity=2).run(suite)"
      ],
      "metadata": {
        "colab": {
          "base_uri": "https://localhost:8080/"
        },
        "id": "g7vp19-9Il0z",
        "outputId": "eea08cad-9955-461a-88c5-509e160cfdcd"
      },
      "execution_count": 27,
      "outputs": [
        {
          "output_type": "stream",
          "name": "stderr",
          "text": [
            "test_is_upper (__main__.TestUpper) ... FAIL\n",
            "test_upper (__main__.TestUpper) ... ok\n",
            "\n",
            "======================================================================\n",
            "FAIL: test_is_upper (__main__.TestUpper)\n",
            "----------------------------------------------------------------------\n",
            "Traceback (most recent call last):\n",
            "  File \"<ipython-input-27-d6ee38928c52>\", line 11, in test_is_upper\n",
            "    self.assertEqual('SUMMER'.isupper(), False)\n",
            "AssertionError: True != False\n",
            "\n",
            "----------------------------------------------------------------------\n",
            "Ran 2 tests in 0.012s\n",
            "\n",
            "FAILED (failures=1)\n"
          ]
        },
        {
          "output_type": "execute_result",
          "data": {
            "text/plain": [
              "<unittest.runner.TextTestResult run=2 errors=0 failures=1>"
            ]
          },
          "metadata": {},
          "execution_count": 27
        }
      ]
    },
    {
      "cell_type": "markdown",
      "source": [
        "Ćwiczenie 6\n",
        "Wykorzystując framework unittest utwórz klasę TestLower dziedziczącą po klasie unittest.TestCase oraz implementującą dwa poniższe testy:\n",
        "\n",
        "test_lower()\n",
        "\n",
        "test, który sprawdzi, czy kod 'Joe.Smith@mail.com'.lower() zwróci tekst 'joe.smith@mail.com'\n",
        "\n",
        "test_is_lower()\n",
        "\n",
        "test, który sprawdzi, czy kod 'joe.smith@mail.com'.islower() zwraca wartość logiczną True\n",
        "\n",
        "test, który sprawdzi, czy kod 'Joe.Smith@mail.com'.islower() zwraca wartość logiczną False\n",
        "\n",
        "\n",
        "\n",
        "Wystarczy tylko zdefiniować klasę i odpowiednie testy. W trakcie weryfikacji rozwiązania testy są uruchamiane i w razie ewentualnych błędów raport o testach zostanie wydrukowany do konsoli."
      ],
      "metadata": {
        "id": "EtluexktMa1D"
      }
    },
    {
      "cell_type": "code",
      "source": [
        "import unittest\n",
        "\n",
        "class TestLower(unittest.TestCase):\n",
        "  def test_lower(self):\n",
        "    self.assertEqual('Joe.Smith@mail.com'.lower(), 'joe.smith@mail.com')\n",
        "\n",
        "  def test_is_lower(self):\n",
        "    self.assertTrue('joe.smith@mail.com'.islower())\n",
        "    self.assertEqual('Joe.Smith@mail.com'.islower(), False)\n",
        "\n",
        "suite = unittest.TestLoader().loadTestsFromTestCase(TestLower)\n",
        "unittest.TextTestRunner(verbosity=2).run(suite)\n"
      ],
      "metadata": {
        "colab": {
          "base_uri": "https://localhost:8080/"
        },
        "id": "5fU7qS3rLPvv",
        "outputId": "8327c70e-3ace-4c67-fece-73eee40e6e04"
      },
      "execution_count": 28,
      "outputs": [
        {
          "output_type": "stream",
          "name": "stderr",
          "text": [
            "test_is_lower (__main__.TestLower) ... ok\n",
            "test_lower (__main__.TestLower) ... ok\n",
            "\n",
            "----------------------------------------------------------------------\n",
            "Ran 2 tests in 0.012s\n",
            "\n",
            "OK\n"
          ]
        },
        {
          "output_type": "execute_result",
          "data": {
            "text/plain": [
              "<unittest.runner.TextTestResult run=2 errors=0 failures=0>"
            ]
          },
          "metadata": {},
          "execution_count": 28
        }
      ]
    },
    {
      "cell_type": "markdown",
      "source": [
        "Ćwiczenie 7\n",
        "Wykorzystując framework unittest utwórz dwie klasy o nazwach: TestStartswithMethod oraz TestEndswithMethod dziedziczące po klasie unittest.TestCase.\n",
        "\n",
        "Klasa TestStartswithMethod implementuje dwie metody testowe:\n",
        "\n",
        "test_startswith_one_letter()\n",
        "\n",
        "test, który sprawdzi, czy kod 'unittest'.startswith('u') zwróci wartość logiczną True\n",
        "\n",
        "test, który sprawdzi, czy kod 'unittest'.startswith('U') zwróci wartość logiczną False\n",
        "\n",
        "test_startswith_four_letters()\n",
        "\n",
        "test, który sprawdzi, czy kod 'http://www.e-smartdata.org/'.startswith('http') zwraca wartość logiczną True\n",
        "\n",
        "test, który sprawdzi, czy kod 'www.e-smartdata.org/'.startswith('http') zwraca wartość logiczną False\n",
        "\n",
        "Klasa TestEndswithMethod implementuje jedną metodę testową:\n",
        "\n",
        "test_endswith_three_letter()\n",
        "\n",
        "test, który sprawdzi, czy kod 'e-smartdata.org'.endswith('org') zwróci wartość logiczną True\n",
        "\n",
        "test, który sprawdzi, czy kod 'e-smartdata.org'.endswith('com') zwróci wartość logiczną False\n",
        "\n",
        "\n",
        "\n",
        "Wystarczy tylko zdefiniować klasy i odpowiednie metody testowe. W trakcie weryfikacji rozwiązania testy są uruchamiane i w razie ewentualnych błędów raport o testach zostanie wydrukowany do konsoli.\n",
        "\n"
      ],
      "metadata": {
        "id": "-z15c_OoNnFn"
      }
    },
    {
      "cell_type": "code",
      "source": [
        "import unittest\n",
        "\n",
        "class TestStartswithMethod(unittest.TestCase):\n",
        "  def test_startswith_one_letter(self):\n",
        "    self.assertTrue('unittest'.startswith('u'))\n",
        "    self.assertEqual('unittest'.startswith('U'), False)\n",
        "\n",
        "  def test_startswith_four_letters(self):\n",
        "    self.assertTrue('http://www.e-smartdata.org/'.startswith('http'))\n",
        "    self.assertEqual('www.e-smartdata.org/'.startswith('http') , False)\n",
        "\n",
        "class TestEndswithMethod(unittest.TestCase):\n",
        "  def test_endswith_three_letter(self):\n",
        "    self.assertTrue('e-smartdata.org'.endswith('org'))\n",
        "    self.assertEqual('e-smartdata.org'.endswith('com') , False)\n",
        "\n",
        "suite = unittest.TestLoader().loadTestsFromTestCase(TestStartswithMethod)\n",
        "unittest.TextTestRunner(verbosity=2).run(suite)\n",
        "suite = unittest.TestLoader().loadTestsFromTestCase(TestEndswithMethod)\n",
        "unittest.TextTestRunner(verbosity=2).run(suite)"
      ],
      "metadata": {
        "colab": {
          "base_uri": "https://localhost:8080/"
        },
        "id": "6isUMLkaNaci",
        "outputId": "8d89868b-77ae-4e3d-db02-5da7c5ab9575"
      },
      "execution_count": 30,
      "outputs": [
        {
          "output_type": "stream",
          "name": "stderr",
          "text": [
            "test_startswith_four_letters (__main__.TestStartswithMethod) ... ok\n",
            "test_startswith_one_letter (__main__.TestStartswithMethod) ... ok\n",
            "\n",
            "----------------------------------------------------------------------\n",
            "Ran 2 tests in 0.016s\n",
            "\n",
            "OK\n",
            "test_endswith_three_letter (__main__.TestEndswithMethod) ... ok\n",
            "\n",
            "----------------------------------------------------------------------\n",
            "Ran 1 test in 0.003s\n",
            "\n",
            "OK\n"
          ]
        },
        {
          "output_type": "execute_result",
          "data": {
            "text/plain": [
              "<unittest.runner.TextTestResult run=1 errors=0 failures=0>"
            ]
          },
          "metadata": {},
          "execution_count": 30
        }
      ]
    },
    {
      "cell_type": "markdown",
      "source": [
        "Ćwiczenie 8\n",
        "Wykorzystując framework unittest utwórz trzy klasy o nazwach: TestLstripMethod , TestStripMethod oraz TestRstripMethod dziedziczące po klasie unittest.TestCase. Następnie do każdej klasy dodaj po dwie metody testowe, testujące odpowiednio zachowanie metod:\n",
        "\n",
        "str.lstrip()\n",
        "\n",
        "str.strip()\n",
        "\n",
        "str.rstrip()\n",
        "\n",
        "\n",
        "\n",
        "Nazwy metod testowych i przypadki testowe dobierz według swojego uznania.\n"
      ],
      "metadata": {
        "id": "Lu6QbfOxPaPm"
      }
    },
    {
      "cell_type": "code",
      "source": [
        "import unittest\n",
        "\n",
        "\n",
        "class TestLstripMethod(unittest.TestCase):\n",
        "\n",
        "    def test_lstrip_with_space(self):\n",
        "        self.assertEqual('  price,volume  '.lstrip(), 'price,volume  ')\n",
        "\n",
        "    def test_lstrip_with_new_line_char(self):\n",
        "        self.assertEqual('\\nprice,volume\\n'.lstrip(), 'price,volume\\n')\n",
        "\n",
        "\n",
        "class TestStripMethod(unittest.TestCase):\n",
        "\n",
        "    def test_strip_with_space(self):\n",
        "        self.assertEqual('  price,volume  '.strip(), 'price,volume')\n",
        "\n",
        "    def test_strip_with_new_line_char(self):\n",
        "        self.assertEqual('\\nprice,volume\\n'.strip(), 'price,volume')\n",
        "\n",
        "\n",
        "class TestRstripMethod(unittest.TestCase):\n",
        "\n",
        "    def test_rstrip_with_space(self):\n",
        "        self.assertEqual('  price,volume  '.rstrip(), '  price,volume')\n",
        "\n",
        "    def test_rstrip_with_new_line_char(self):\n",
        "        self.assertEqual('\\nprice,volume\\n'.rstrip(), '\\nprice,volume')"
      ],
      "metadata": {
        "colab": {
          "base_uri": "https://localhost:8080/"
        },
        "id": "Dovgmp5ePDPM",
        "outputId": "7d6b5a81-0576-474d-ebaa-30f0a4d9ad7a"
      },
      "execution_count": 37,
      "outputs": [
        {
          "output_type": "stream",
          "name": "stderr",
          "text": [
            "test_right_strip (__main__.TestRstripMethod) ... ok\n",
            "\n",
            "----------------------------------------------------------------------\n",
            "Ran 1 test in 0.010s\n",
            "\n",
            "OK\n"
          ]
        },
        {
          "output_type": "execute_result",
          "data": {
            "text/plain": [
              "<unittest.runner.TextTestResult run=1 errors=0 failures=0>"
            ]
          },
          "metadata": {},
          "execution_count": 37
        }
      ]
    },
    {
      "cell_type": "markdown",
      "source": [
        "Ćwiczenie 1\n",
        "Podana jest poniższa funkcja calculate_daily_return(), która przyjmuje dwa argumenty: open oraz close będące odpowiednio ceną otwarcia oraz ceną zamknięcia instrumentu finansowego z danej sesji giełdowej i zwracająca procentową wartość dziennej stopy zwrotu.\n",
        "\n",
        "\n",
        "\n",
        "def calculate_daily_return(open, close):\n",
        "    return round((close / open - 1) * 100, 2)\n",
        "\n",
        "\n",
        "Dokończ implementację klasy TestCalculateDailyReturn dodając trzy metody testowe:\n",
        "\n",
        "test_positive_return()\n",
        "\n",
        "wykorzystując metodę assertEqual sprawdź czy kod calculate_daily_return(349.0, 360.0) zwróci dzienną stopę zwrotu 3.15\n",
        "\n",
        "test_negative_return()\n",
        "\n",
        "wykorzystując metodę assertEqual sprawdź czy kod calculate_daily_return(349.0, 340.0) zwróci dzienną stopę zwrotu -2.58\n",
        "\n",
        "test_zero_return()\n",
        "\n",
        "wykorzystując metodę assertEqual sprawdź czy kod calculate_daily_return(349.0, 349.0) zwróci dzienną stopę zwrotu 0.0\n",
        "\n",
        "\n",
        "\n",
        "Wystarczy tylko zaimplementować metody testowe. W trakcie weryfikacji rozwiązania testy są uruchamiane i w razie ewentualnych błędów raport o testach zostanie wydrukowany do konsoli.\n"
      ],
      "metadata": {
        "id": "iQiinRPnTiU8"
      }
    },
    {
      "cell_type": "code",
      "source": [
        "import unittest\n",
        "\n",
        "\n",
        "def calculate_daily_return(open, close):\n",
        "    return round((close / open - 1) * 100, 2)\n",
        "\n",
        "\n",
        "class TestCalculateDailyReturn(unittest.TestCase):\n",
        "    def test_positive_return(self):\n",
        "        self.assertEqual(3.15, calculate_daily_return(349.0, 360.0))\n",
        "    def test_negative_return(self):\n",
        "        self.assertEqual(-2.58, calculate_daily_return(349.0, 340.0))\n",
        "    def test_zero_return(self):\n",
        "        self.assertEqual(0.0, calculate_daily_return(349.0, 349.0))\n",
        "\n",
        "\n",
        "suite = unittest.TestLoader().loadTestsFromTestCase(TestCalculateDailyReturn)\n",
        "unittest.TextTestRunner(verbosity=2).run(suite)\n",
        "# suite = unittest.TestLoader().loadTestsFromTestCase(TestEndswithMethod)\n",
        "# unittest.TextTestRunner(verbosity=2).run(suite)"
      ],
      "metadata": {
        "colab": {
          "base_uri": "https://localhost:8080/"
        },
        "id": "3OCT_K_NPwo4",
        "outputId": "87e4a7cd-f5a3-4c53-b7ee-3b2f35388a7f"
      },
      "execution_count": 40,
      "outputs": [
        {
          "output_type": "stream",
          "name": "stderr",
          "text": [
            "test_negative_return (__main__.TestCalculateDailyReturn) ... ok\n",
            "test_positive_return (__main__.TestCalculateDailyReturn) ... ok\n",
            "test_zero_return (__main__.TestCalculateDailyReturn) ... ok\n",
            "\n",
            "----------------------------------------------------------------------\n",
            "Ran 3 tests in 0.019s\n",
            "\n",
            "OK\n"
          ]
        },
        {
          "output_type": "execute_result",
          "data": {
            "text/plain": [
              "<unittest.runner.TextTestResult run=3 errors=0 failures=0>"
            ]
          },
          "metadata": {},
          "execution_count": 40
        }
      ]
    },
    {
      "cell_type": "markdown",
      "source": [
        "Ćwiczenie 2\n",
        "Podana jest poniższa funkcja calculate_daily_return(), która przyjmuje dwa argumenty: open oraz close będące odpowiednio ceną otwarcia oraz ceną zamknięcia instrumentu finansowego z danej sesji giełdowej i zwracająca procentową wartość dziennej stopy zwrotu (tym razem funkcja nie dokonuje zaokrąglenia wyniku).\n",
        "\n",
        "\n",
        "\n",
        "def calculate_daily_return(open, close):\n",
        "    return (close / open - 1) * 100\n",
        "\n",
        "\n",
        "Dokończ implementację klasy TestCalculateDailyReturn dodając trzy metody testowe:\n",
        "\n",
        "test_positive_return()\n",
        "\n",
        "wykorzystując metodę assertAlmostEqual sprawdź czy kod calculate_daily_return(349.0, 360.0) zwraca odpowiednią wartość\n",
        "\n",
        "test_negative_return()\n",
        "\n",
        "wykorzystując metodę assertAlmostEqual sprawdź czy kod calculate_daily_return(349.0, 340.0) zwraca odpowiednią wartość\n",
        "\n",
        "test_zero_return()\n",
        "\n",
        "wykorzystując metodę assertAlmostEqual sprawdź czy kod calculate_daily_return(349.0, 349.0) zwraca odpowiednią wartość\n",
        "\n",
        "\n",
        "\n",
        "Uwaga: Zwróć uwagę na sposób asercji w metodzie assertAlmostEqual.\n",
        "\n",
        "\n",
        "\n",
        "Wystarczy tylko zaimplementować metody testowe. W trakcie weryfikacji rozwiązania testy są uruchamiane i w razie ewentualnych błędów raport o testach zostanie wydrukowany do konsoli.\n"
      ],
      "metadata": {
        "id": "KxrLz3AKWsd7"
      }
    },
    {
      "cell_type": "code",
      "source": [
        "import unittest\n",
        "\n",
        "\n",
        "def calculate_daily_return(open, close):\n",
        "    return (close / open - 1) * 100\n",
        "\n",
        "\n",
        "class TestCalculateDailyReturn(unittest.TestCase):\n",
        "    def test_positive_return(self):\n",
        "      self.assertAlmostEqual(calculate_daily_return(349.0, 360.0), 3.15, 2)\n",
        "\n",
        "    def test_negative_return(self):\n",
        "      self.assertAlmostEqual(calculate_daily_return(349.0, 340.0), -2.58, 2)\n",
        "\n",
        "    def test_zero_return(self):\n",
        "      self.assertAlmostEqual(calculate_daily_return(349.0, 349.0), 0, 1)\n",
        "\n",
        "suite = unittest.TestLoader().loadTestsFromTestCase(TestCalculateDailyReturn)\n",
        "unittest.TextTestRunner(verbosity=2).run(suite)"
      ],
      "metadata": {
        "colab": {
          "base_uri": "https://localhost:8080/"
        },
        "id": "cq80qq-FP0fM",
        "outputId": "3e15a35c-198d-43ef-ea7b-34573b7aed72"
      },
      "execution_count": 52,
      "outputs": [
        {
          "output_type": "stream",
          "name": "stderr",
          "text": [
            "test_negative_return (__main__.TestCalculateDailyReturn) ... ok\n",
            "test_positive_return (__main__.TestCalculateDailyReturn) ... ok\n",
            "test_zero_return (__main__.TestCalculateDailyReturn) ... ok\n",
            "\n",
            "----------------------------------------------------------------------\n",
            "Ran 3 tests in 0.015s\n",
            "\n",
            "OK\n"
          ]
        },
        {
          "output_type": "execute_result",
          "data": {
            "text/plain": [
              "<unittest.runner.TextTestResult run=3 errors=0 failures=0>"
            ]
          },
          "metadata": {},
          "execution_count": 52
        }
      ]
    },
    {
      "cell_type": "markdown",
      "source": [
        "Ćwiczenie 3\n",
        "Podana jest poniższa klasa Doc:\n",
        "\n",
        "\n",
        "\n",
        "class Doc:\n",
        "\n",
        "    def __init__(self, string):\n",
        "        self.string = string\n",
        "        \n",
        "    def __repr__(self):\n",
        "        return f\"Doc(string='{self.string}')\"\n",
        "\n",
        "    def __lt__(self, other):\n",
        "        return len(self.string) < len(other.string)\n",
        "\n",
        "\n",
        "Wykorzystując framework unittest utwórz klasę TestDoc dziedziczącą po klasie unittest.TestCase implementującą dwie metody testowe:\n",
        "\n",
        "test_less_than()\n",
        "\n",
        "sprawdza, czy doc2 < doc1 - wykorzystaj w tym celu metodę asercji assertLess()\n",
        "\n",
        "sprawdza, czy doc3 < doc1 - wykorzystaj w tym celu metodę asercji assertLess()\n",
        "\n",
        "test_greater_than()\n",
        "\n",
        "sprawdza, czy doc1 > doc2 - wykorzystaj w tym celu metodę asercji assertGreater()\n",
        "\n",
        "sprawdza, czy doc1 > doc3 - wykorzystaj w tym celu metodę asercji assertGreater()\n",
        "\n",
        "Gdzie doc1, doc2, doc3 są odpowiednio instancjami klasy Doc:\n",
        "\n",
        "\n",
        "\n",
        "doc1 = Doc('Technology')\n",
        "doc2 = Doc('Online')\n",
        "doc3 = Doc('Nature')\n",
        "\n",
        "\n",
        "Wystarczy tylko zaimplementować klasę i odpowiednie metody testowe. W trakcie weryfikacji rozwiązania testy są uruchamiane i w razie ewentualnych błędów raport o testach zostanie wydrukowany do konsoli.\n"
      ],
      "metadata": {
        "id": "UuU_Lmh9Ynxx"
      }
    },
    {
      "cell_type": "code",
      "source": [
        "import unittest\n",
        "\n",
        "\n",
        "class Doc:\n",
        "\n",
        "    def __init__(self, string):\n",
        "        self.string = string\n",
        "\n",
        "    def __repr__(self):\n",
        "        return f\"Doc(string='{self.string}')\"\n",
        "\n",
        "    def __lt__(self, other):\n",
        "        return len(self.string) < len(other.string)\n",
        "\n",
        "\n",
        "class TestDoc(unittest.TestCase):\n",
        "  doc1 = Doc('Technology')\n",
        "  doc2 = Doc('Online')\n",
        "  doc3 = Doc('Nature')\n",
        "  def test_less_than(self):\n",
        "    self.assertLess(TestDoc.doc2, TestDoc.doc1)\n",
        "    self.assertLess(TestDoc.doc3, TestDoc.doc1)\n",
        "  def test_greater_than(self):\n",
        "    self.assertGreater(TestDoc.doc1, TestDoc.doc2)\n",
        "    self.assertGreater(TestDoc.doc1, TestDoc.doc3)\n",
        "\n",
        "suite = unittest.TestLoader().loadTestsFromTestCase(TestDoc)\n",
        "unittest.TextTestRunner(verbosity=2).run(suite)"
      ],
      "metadata": {
        "colab": {
          "base_uri": "https://localhost:8080/"
        },
        "id": "XxKmGk_CXISv",
        "outputId": "2d9e5dd8-b29a-47f4-d114-9d375a957dea"
      },
      "execution_count": 54,
      "outputs": [
        {
          "output_type": "stream",
          "name": "stderr",
          "text": [
            "test_greater_than (__main__.TestDoc) ... ok\n",
            "test_less_than (__main__.TestDoc) ... ok\n",
            "\n",
            "----------------------------------------------------------------------\n",
            "Ran 2 tests in 0.009s\n",
            "\n",
            "OK\n"
          ]
        },
        {
          "output_type": "execute_result",
          "data": {
            "text/plain": [
              "<unittest.runner.TextTestResult run=2 errors=0 failures=0>"
            ]
          },
          "metadata": {},
          "execution_count": 54
        }
      ]
    },
    {
      "cell_type": "code",
      "source": [],
      "metadata": {
        "id": "mcXx7KrbXJ-P"
      },
      "execution_count": null,
      "outputs": []
    }
  ]
}